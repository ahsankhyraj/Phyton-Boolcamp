{
 "cells": [
  {
   "cell_type": "markdown",
   "id": "d753050e",
   "metadata": {},
   "source": [
    "# Section 1: Print Statements and Basic Operations\n",
    "### Exercise 1.1: Print Statement\n",
    "\n",
    "Write a print statement that displays your name."
   ]
  },
  {
   "cell_type": "markdown",
   "id": "c28affa9",
   "metadata": {},
   "source": [
    "# Python Basics Assignment Notebook\n",
    "Instructions\n",
    "Complete all the exercises below. Each section corresponds to the concepts covered in class. Write your code in the designated cells and test your solutions."
   ]
  },
  {
   "cell_type": "code",
   "execution_count": null,
   "id": "5dd3cbe8",
   "metadata": {},
   "outputs": [],
   "source": [
    "# Your code here"
   ]
  },
  {
   "cell_type": "markdown",
   "id": "9787a1fc",
   "metadata": {},
   "source": [
    "### Exercise 1.2: Arithmetic Operations\n",
    "Calculate and print the results of the following operations:\n",
    "\n",
    "- Add 15 and 25\n",
    "- Subtract 30 from 50\n",
    "- Multiply 7 by 8\n",
    "- Divide 100 by 4\n",
    "- Find the integer division of 100 by 3\n",
    "- Find the remainder when 100 is divided by 3\n",
    "- Calculate 2 to the power of 5"
   ]
  },
  {
   "cell_type": "code",
   "execution_count": null,
   "id": "0e3f8a53",
   "metadata": {},
   "outputs": [],
   "source": [
    "# Exercise 1.2: \n",
    "# Arithmetic Operations\n",
    "\n",
    "# Add 15 and 25\n",
    "addition = 15 + 25\n",
    "print(\"15 + 25 =\", addition)\n",
    "\n",
    "# Subtract 30 from 50\n",
    "subtraction = 50 - 30\n",
    "print(\"50 - 30 =\", subtraction)\n",
    "\n",
    "# Multiply 7 by 8\n",
    "multiplication = 7 * 8\n",
    "print(\"7 * 8 =\", multiplication)\n",
    "\n",
    "# Divide 100 by 4\n",
    "division = 100 / 4\n",
    "print(\"100 / 4 =\", division)\n",
    "\n",
    "# Integer division of 100 by 3\n",
    "integer_division = 100 // 3\n",
    "print(\"100 // 3 =\", integer_division)\n",
    "\n",
    "# Remainder when 100 is divided by 3\n",
    "remainder = 100 % 3\n",
    "print(\"100 % 3 =\", remainder)\n",
    "\n",
    "# 2 to the power of 5\n",
    "exponentiation = 2 ** 5\n",
    "print(\"2 ** 5 =\", exponentiation)\n"
   ]
  },
  {
   "cell_type": "markdown",
   "id": "5498283c",
   "metadata": {},
   "source": [
    "#  Section 2: Variables and Assignment Operators\n",
    "### Exercise 2.1: Variable Assignment\n",
    "\n",
    "Create variables with the following values:\n",
    "\n",
    "- student_name = your name\n",
    "- age = your age\n",
    "- grade = your current grade/class\n",
    "\n",
    "Print all three variables."
   ]
  },
  {
   "cell_type": "code",
   "execution_count": null,
   "id": "77b416ac",
   "metadata": {},
   "outputs": [],
   "source": [
    "# Variable Assignment\n",
    "student_name = \"Ahsan Raza\"\n",
    "age = 41\n",
    "grade = \"12th Grade\"\n",
    "\n",
    "# Print the variables\n",
    "print(\"Student Name:\", student_name)\n",
    "print(\"Age:\", age)\n",
    "print(\"Grade:\", grade)\n"
   ]
  },
  {
   "cell_type": "markdown",
   "id": "1e7171bb",
   "metadata": {},
   "source": [
    "### Exercise 2.2: Mathematical Operations with Variables\n",
    "Create two variables a = 10 and b = 5. Then:\n",
    "\n",
    "- Calculate their sum and store in variable sum_result\n",
    "- Calculate their product and store in variable product_result\n",
    "- Print both results"
   ]
  },
  {
   "cell_type": "code",
   "execution_count": null,
   "id": "855024ba",
   "metadata": {},
   "outputs": [],
   "source": [
    "# Exercise 2.2: Mathematical Operations with Variables\n",
    "\n",
    "# Define the variables\n",
    "a = 10\n",
    "b = 5\n",
    "\n",
    "# Calculate sum and product\n",
    "sum_result = a + b\n",
    "product_result = a * b\n",
    "\n",
    "# Print the results\n",
    "print(\"Sum of a and b:\", sum_result)\n",
    "print(\"Product of a and b:\", product_result)\n"
   ]
  },
  {
   "cell_type": "markdown",
   "id": "43f5582a",
   "metadata": {},
   "source": [
    "### Exercise 2.3: Increment and Decrement Operators\n",
    "Start with a variable counter = 0:\n",
    "\n",
    "- Increment it by 3 using the += operator\n",
    "- Print the result\n",
    "- Decrement it by 1 using the -= operator\n",
    "- Print the final result"
   ]
  },
  {
   "cell_type": "code",
   "execution_count": null,
   "id": "715a472d",
   "metadata": {},
   "outputs": [],
   "source": [
    "# Exercise 2.3: Increment and Decrement Operators\n",
    "\n",
    "# Initialize the counter\n",
    "counter = 0\n",
    "\n",
    "# Increment by 3\n",
    "counter += 3\n",
    "print(\"After incrementing by 3:\", counter)\n",
    "\n",
    "# Decrement by 1\n",
    "counter -= 1\n",
    "print(\"After decrementing by 1:\", counter)\n"
   ]
  },
  {
   "cell_type": "markdown",
   "id": "a302e721",
   "metadata": {},
   "source": [
    "# Section 3: Data Types\n",
    "### Exercise 3.1: Identifying Data Types\n",
    "Create variables of different types and check their types:\n",
    "\n",
    "- An integer: num1 = 42\n",
    "- A string: text1 = \"Python Programming\"\n",
    "- A float: decimal1 = 3.14159\n",
    "- A boolean: is_student = True\n",
    "\n",
    "Use the type() function to check and print the type of each variable."
   ]
  },
  {
   "cell_type": "code",
   "execution_count": null,
   "id": "3e240477",
   "metadata": {},
   "outputs": [],
   "source": [
    "# Exercise 3.1: Identifying Data Types\n",
    "\n",
    "# Define variables of different types\n",
    "num1 = 42                  # Integer\n",
    "text1 = \"Python Programming\"  # String\n",
    "decimal1 = 3.14159         # Float\n",
    "is_student = True          # Boolean\n",
    "\n",
    "# Check and print the type of each variable\n",
    "print(\"Type of num1:\", type(num1))\n",
    "print(\"Type of text1:\", type(text1))\n",
    "print(\"Type of decimal1:\", type(decimal1))\n",
    "print(\"Type of is_student:\", type(is_student))\n"
   ]
  },
  {
   "cell_type": "markdown",
   "id": "783be222",
   "metadata": {},
   "source": [
    "# Section 4: Strings and String Handling\n",
    "### Exercise 4.1: String Creation\n",
    "Create three string variables:\n",
    "\n",
    "- greeting = \"Hello\"\n",
    "- name = \"Python\"\n",
    "- exclamation = \"!\""
   ]
  },
  {
   "cell_type": "code",
   "execution_count": null,
   "id": "768bab0f",
   "metadata": {},
   "outputs": [],
   "source": [
    "# Exercise 4.1: String Creation\n",
    "\n",
    "# Create string variables\n",
    "greeting = \"Hello\"\n",
    "name = \"Python\"\n",
    "exclamation = \"!\"\n",
    "\n",
    "# Optionally, combine and print them\n",
    "full_message = greeting + \" \" + name + exclamation\n",
    "print(full_message)  # Output: Hello Python!\n"
   ]
  },
  {
   "cell_type": "markdown",
   "id": "8d579589",
   "metadata": {},
   "source": [
    "### Exercise 4.2: String Concatenation\n",
    "Using the variables from Exercise 4.1, concatenate them to create:\n",
    "\n",
    "- \"Hello Python!\"\n",
    "- \"Python Hello!\"\n",
    "\n",
    "Print both results."
   ]
  },
  {
   "cell_type": "code",
   "execution_count": null,
   "id": "72208381",
   "metadata": {},
   "outputs": [],
   "source": [
    "# Exercise 4.2: String Concatenation\n",
    "\n",
    "# Reuse variables from previous exercise\n",
    "greeting = \"Hello\"\n",
    "name = \"Python\"\n",
    "exclamation = \"!\"\n",
    "\n",
    "# Concatenate to form \"Hello Python!\"\n",
    "result1 = greeting + \" \" + name + exclamation\n",
    "print(result1)  # Output: Hello Python!\n",
    "\n",
    "# Concatenate to form \"Python Hello!\"\n",
    "result2 = name + \" \" + greeting + exclamation\n",
    "print(result2)  # Output: Python Hello!\n"
   ]
  },
  {
   "cell_type": "markdown",
   "id": "cf66e2a4",
   "metadata": {},
   "source": [
    "### Exercise 4.3: String and Number Concatenation\n",
    "Create:\n",
    "\n",
    "- label = \"Your score is: \"\n",
    "- score = 95\n",
    "\n",
    "Concatenate them to print \"Your score is: 95\""
   ]
  },
  {
   "cell_type": "code",
   "execution_count": null,
   "id": "cee7791c",
   "metadata": {},
   "outputs": [],
   "source": [
    "# Exercise 4.3: String and Number Concatenation\n",
    "\n",
    "# Define the label and score\n",
    "label = \"Your score is: \"\n",
    "score = 95\n",
    "\n",
    "# Method 1: Convert number to string and concatenate\n",
    "result = label + str(score)\n",
    "print(result)  # Output: Your score is: 95\n",
    "\n",
    "# Optional: Method 2 using f-string\n",
    "result_fstring = f\"{label}{score}\"\n",
    "print(result_fstring)  # Output: Your score is: 95\n"
   ]
  },
  {
   "cell_type": "markdown",
   "id": "2941c047",
   "metadata": {},
   "source": [
    "# Section 5: Type Conversion\n",
    "### Exercise 5.1: String to Integer\n",
    "Given str_num = \"25\":\n",
    "\n",
    "- Check its type\n",
    "- Convert it to an integer\n",
    "- Check the type of the converted value\n",
    "- Print both the original and converted values"
   ]
  },
  {
   "cell_type": "code",
   "execution_count": null,
   "id": "3f60f60e",
   "metadata": {},
   "outputs": [],
   "source": [
    "# Exercise 5.1: String to Integer\n",
    "\n",
    "# Given string\n",
    "str_num = \"25\"\n",
    "\n",
    "# Check and print original type\n",
    "print(\"Original value:\", str_num)\n",
    "print(\"Type of str_num:\", type(str_num))\n",
    "\n",
    "# Convert to integer\n",
    "int_num = int(str_num)\n",
    "\n",
    "# Check and print converted value and type\n",
    "print(\"Converted value:\", int_num)\n",
    "print(\"Type of int_num:\", type(int_num))\n"
   ]
  },
  {
   "cell_type": "markdown",
   "id": "745d3efa",
   "metadata": {},
   "source": [
    "### Exercise 5.2: Adding Numbers with Type Conversion\n",
    "You have:\n",
    "\n",
    "- num_a = 10\n",
    "- num_b = \"15\"\n",
    "\n",
    "Add these two numbers by converting num_b to an integer"
   ]
  },
  {
   "cell_type": "code",
   "execution_count": null,
   "id": "0af97c14",
   "metadata": {},
   "outputs": [],
   "source": [
    "# Exercise 5.2: Adding Numbers with Type Conversion\n",
    "\n",
    "# Given values\n",
    "num_a = 10\n",
    "num_b = \"15\"\n",
    "\n",
    "# Convert num_b to integer and add\n",
    "total = num_a + int(num_b)\n",
    "\n",
    "# Print the result\n",
    "print(\"The total is:\", total)  # Output: The total is: 25\n"
   ]
  },
  {
   "cell_type": "markdown",
   "id": "e49ca983",
   "metadata": {},
   "source": [
    "# Section 6: String Indexing\n",
    "### Exercise 6.1: Basic String Indexing\n",
    "\n",
    "Given student_name = \"Python\":\n",
    "\n",
    "- Print the character at index 2\n",
    "- Print the last character using negative indexing\n",
    "- Print the second-to-last character\n",
    "- Print the first character using negative indexing\n",
    "- Print the first and last characters together (e.g., \"P,n\")\n",
    "- Print characters at positions 0, 5, and -1 together"
   ]
  },
  {
   "cell_type": "code",
   "execution_count": null,
   "id": "1308ec0b",
   "metadata": {},
   "outputs": [],
   "source": [
    "# Exercise 6.1: Basic String Indexing\n",
    "\n",
    "# Given string\n",
    "student_name = \"Python\"\n",
    "\n",
    "# Print the character at index 2\n",
    "print(\"Character at index 2:\", student_name[2])  # 't'\n",
    "\n",
    "# Print the last character using negative indexing\n",
    "print(\"Last character:\", student_name[-1])  # 'n'\n",
    "\n",
    "# Print the second-to-last character\n",
    "print(\"Second-to-last character:\", student_name[-2])  # 'o'\n",
    "\n",
    "# Print the first character using negative indexing\n",
    "print(\"First character (negative index):\", student_name[-6])  # 'P'\n",
    "\n",
    "# Print the first and last characters together\n",
    "print(\"Fi\n"
   ]
  },
  {
   "cell_type": "markdown",
   "id": "9a6200bb",
   "metadata": {},
   "source": [
    "# Section 7: String Slicing\n",
    "### Exercise 7.1: Basic Slicing\n",
    "Given text = \"Hello, Python!\":\n",
    "\n",
    "- Extract \"Hello\"\n",
    "- Extract \"Python\"\n",
    "- Extract the last 5 characters"
   ]
  },
  {
   "cell_type": "code",
   "execution_count": null,
   "id": "37f370b7",
   "metadata": {},
   "outputs": [],
   "source": [
    "# Exercise 7.1: Basic Slicing\n",
    "\n",
    "# Given string\n",
    "text = \"Hello, Python!\"\n",
    "\n",
    "# Extract \"Hello\"\n",
    "part1 = text[0:5]\n",
    "print(\"Extracted 'Hello':\", part1)\n",
    "\n",
    "# Extract \"Python\"\n",
    "part2 = text[7:13]\n",
    "print(\"Extracted 'Python':\", part2)\n",
    "\n",
    "# Extract the last 5 characters\n",
    "part3 = text[-5:]\n",
    "print(\"Last 5 characters:\", part3\n"
   ]
  },
  {
   "cell_type": "markdown",
   "id": "45428fbc",
   "metadata": {},
   "source": [
    "### Exercise 7.2: Advanced Slicing\n",
    "Using alphabet = \"abcdefghijklmno\":\n",
    "\n",
    "- Extract \"cde\"\n",
    "- Extract every second character starting from index 0\n",
    "- Extract the string in reverse order\n",
    "- Extract every third character"
   ]
  },
  {
   "cell_type": "code",
   "execution_count": null,
   "id": "d42f1d9f",
   "metadata": {},
   "outputs": [],
   "source": [
    "# Exercise 7.2: Advanced Slicing\n",
    "\n",
    "# Given string\n",
    "alphabet = \"abcdefghijklmno\"\n",
    "\n",
    "# Extract \"cde\"\n",
    "slice1 = alphabet[2:5]\n",
    "print(\"Extracted 'cde':\", slice1)\n",
    "\n",
    "# Extract every second character starting from index 0\n",
    "slice2 = alphabet[0::2]\n",
    "print(\"Every second character:\", slice2)\n",
    "\n",
    "# Extract the string in reverse order\n",
    "slice3 = alphabet[::-1]\n",
    "print(\"Reversed string:\", slice3)\n",
    "\n",
    "# Extract every third character\n",
    "slice4 = alphabet[0::3]\n",
    "print(\"Every third character:\", slice4)\n"
   ]
  },
  {
   "cell_type": "markdown",
   "id": "f46f7b53",
   "metadata": {},
   "source": [
    "### Exercise 7.3: Practical Slicing\n",
    "Given sentence = \"Python programming is fun\":\n",
    "\n",
    "- Extract the word \"Python\"\n",
    "- Extract the word \"programming\"\n",
    "- Extract the last word \"fun\"\n",
    "- Extract every other character from the entire string"
   ]
  },
  {
   "cell_type": "code",
   "execution_count": null,
   "id": "fc62cca3",
   "metadata": {},
   "outputs": [],
   "source": [
    "# Exercise 7.3: Practical Slicing\n",
    "\n",
    "# Given sentence\n",
    "sentence = \"Python programming is fun\"\n",
    "\n",
    "# Extract the word \"Python\"\n",
    "word1 = sentence[0:6]\n",
    "print(\"Extracted 'Python':\", word1)\n",
    "\n",
    "# Extract the word \"programming\"\n",
    "word2 = sentence[7:18]\n",
    "print(\"Extracted 'programming':\", word2)\n",
    "\n",
    "# Extract the last word \"fun\"\n",
    "word3 = sentence[-3:]\n",
    "print(\"Extracted 'fun':\", word3)\n",
    "\n",
    "# Extract every other character from the entire string\n",
    "every_other_char = sentence[::2]\n",
    "print(\"Every other character:\", every_other_char)\n"
   ]
  },
  {
   "cell_type": "markdown",
   "id": "fdc66f21",
   "metadata": {},
   "source": [
    "# Section 8: String Methods\n",
    "### Exercise 8.1: Mixed String Methods\n",
    "Create a program that:\n",
    "\n",
    "- Takes a string user_input = \"  hello WORLD  \"\n",
    "- Removes leading and trailing spaces (use .strip())\n",
    "- Converts it to title case\n",
    "- Checks if the result is alphabetic\n",
    "- Count the number of \"o\" characters\n",
    "- Replace \"o\" with \"0\""
   ]
  },
  {
   "cell_type": "code",
   "execution_count": null,
   "id": "d002cc6f",
   "metadata": {},
   "outputs": [],
   "source": [
    "# Exercise 8.1: Mixed String Methods\n",
    "\n",
    "# Given input\n",
    "user_input = \"  hello WORLD  \"\n",
    "\n",
    "# Remove leading and trailing spaces\n",
    "cleaned_input = user_input.strip()\n",
    "print(\"After strip():\", cleaned_input)\n",
    "\n",
    "# Convert to title case\n",
    "title_case = cleaned_input.title()\n",
    "print(\"Title case:\", title_case)\n",
    "\n",
    "# Check if the result is alphabetic (spaces are removed before checking)\n",
    "is_alpha = title_case.replace(\n"
   ]
  },
  {
   "cell_type": "markdown",
   "id": "b4ac379d",
   "metadata": {},
   "source": [
    "# Section 9: Debugging Exercise\n",
    "### Exercise 9.1: Find and Fix the Errors\n",
    "The following code has several errors. Identify and fix them:\n",
    "\n",
    "```\n",
    "# Original code with errors (DO NOT RUN - FIX FIRST)\n",
    "name = 'John\n",
    "age = \"25\"\n",
    "print(\"Hello, \" + name)\n",
    "print(\"You are \" + age + \" years old\")\n",
    "print(name[0] + name[-1)\n",
    "result = int(\"abc\")\n",
    "```\n",
    "\n",
    "Write the corrected version below:"
   ]
  },
  {
   "cell_type": "code",
   "execution_count": null,
   "id": "2b40e20f",
   "metadata": {},
   "outputs": [],
   "source": [
    "# Corrected code\n",
    "\n",
    "name = 'John'  # Fixed missing closing quote\n",
    "age = \"25\"     # Correct as-is\n",
    "\n",
    "print(\"Hello, \" + name)\n",
    "print(\"You are \" + age + \" years old\")\n",
    "\n",
    "# Fixed syntax: added closing bracket\n",
    "print(name[0] + name[-1])\n",
    "\n",
    "# Optional fix: prevent ValueError by converting a valid string\n",
    "# result = int(\"abc\")  # This would cause an error\n",
    "# Replace with a valid numeric string or handle with try-except\n",
    "try:\n",
    "    result = int(\"abc\")  # Still here to demonstrate the issue\n",
    "except ValueError:\n",
    "    result = \"Conversion failed: invalid integer string\"\n",
    "\n",
    "print(\"Result:\", result)\n"
   ]
  }
 ],
 "metadata": {
  "language_info": {
   "name": "python"
  }
 },
 "nbformat": 4,
 "nbformat_minor": 5
}
